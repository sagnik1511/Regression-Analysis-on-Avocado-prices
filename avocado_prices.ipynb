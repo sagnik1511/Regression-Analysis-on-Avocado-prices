{
  "nbformat": 4,
  "nbformat_minor": 0,
  "metadata": {
    "kernelspec": {
      "language": "python",
      "display_name": "Python 3",
      "name": "python3"
    },
    "language_info": {
      "pygments_lexer": "ipython3",
      "nbconvert_exporter": "python",
      "version": "3.6.4",
      "file_extension": ".py",
      "codemirror_mode": {
        "name": "ipython",
        "version": 3
      },
      "name": "python",
      "mimetype": "text/x-python"
    },
    "colab": {
      "name": "avocado-prices.ipynb",
      "provenance": [],
      "collapsed_sections": [],
      "toc_visible": true
    },
    "accelerator": "TPU"
  },
  "cells": [
    {
      "cell_type": "markdown",
      "metadata": {
        "id": "fwvjTGyirsPC"
      },
      "source": [
        "![images (1).jpg](data:image/jpeg;base64,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)"
      ]
    },
    {
      "cell_type": "markdown",
      "metadata": {
        "id": "P9r_pGArsTQJ"
      },
      "source": [
        "# Docking with Data and Securing Notebook"
      ]
    },
    {
      "cell_type": "code",
      "metadata": {
        "id": "jTZzxdjlH9vc"
      },
      "source": [
        "!pip install -q kaggle\r\n",
        "\r\n",
        "!mkdir -p ~/.kaggle\r\n",
        "\r\n",
        "!cp kaggle.json ~/.kaggle/     # upload the api token created from your kaggle account and paste it in files and write [!cp 'api token file' ~/.kaggle/ ]\r\n",
        "\r\n",
        "!chmod 600 ~/.kaggle/kaggle.json"
      ],
      "execution_count": 80,
      "outputs": []
    },
    {
      "cell_type": "markdown",
      "metadata": {
        "id": "XO_3UUI7sdNA"
      },
      "source": [
        "Downloading data in workspace"
      ]
    },
    {
      "cell_type": "code",
      "metadata": {
        "colab": {
          "base_uri": "https://localhost:8080/"
        },
        "id": "9ERqfTeiIA_c",
        "outputId": "b21f6f1a-c2a6-4fc4-a5d0-d13ca7ead721"
      },
      "source": [
        "!kaggle datasets download -d neuromusic/avocado-prices"
      ],
      "execution_count": 81,
      "outputs": [
        {
          "output_type": "stream",
          "text": [
            "avocado-prices.zip: Skipping, found more recently modified local copy (use --force to force download)\n"
          ],
          "name": "stdout"
        }
      ]
    },
    {
      "cell_type": "markdown",
      "metadata": {
        "id": "iHrilGVesgmv"
      },
      "source": [
        "Unzipping files"
      ]
    },
    {
      "cell_type": "code",
      "metadata": {
        "id": "ZQqVozB7ITMU"
      },
      "source": [
        "from zipfile import ZipFile\r\n",
        "zf = ZipFile('/content/avocado-prices.zip', 'r')\r\n",
        "zf.extractall('/content')\r\n",
        "zf.close()"
      ],
      "execution_count": 82,
      "outputs": []
    },
    {
      "cell_type": "markdown",
      "metadata": {
        "id": "7HIyR-bwGaca"
      },
      "source": [
        "# Libraries"
      ]
    },
    {
      "cell_type": "code",
      "metadata": {
        "_uuid": "d629ff2d2480ee46fbb7e2d37f6b5fab8052498a",
        "_cell_guid": "79c7e3d0-c299-4dcb-8224-4455121ee9b0",
        "trusted": true,
        "id": "2A9KTBfcGaci"
      },
      "source": [
        "# for visualization -------------------\n",
        "\n",
        "import matplotlib.pyplot as plt\n",
        "import seaborn as sns\n",
        "import numpy as np\n",
        "import pandas as pd\n",
        "\n",
        "# for data pipeline --------------------\n",
        "\n",
        "from sklearn.model_selection import train_test_split\n",
        "from sklearn.metrics import*\n",
        "import matplotlib.pyplot as plt\n",
        "from sklearn.model_selection import train_test_split\n",
        "from sklearn.preprocessing import StandardScaler\n",
        "from sklearn.model_selection import train_test_split\n",
        "from sklearn.preprocessing import StandardScaler\n",
        "from sklearn.feature_selection import VarianceThreshold\n",
        "from sklearn.pipeline import make_pipeline\n",
        "\n",
        "# for prediction (machine learning models) ------------------------\n",
        "\n",
        "from sklearn.linear_model import*\n",
        "from sklearn.preprocessing import*\n",
        "from sklearn.ensemble import*\n",
        "from sklearn.neighbors import*\n",
        "from sklearn import svm\n",
        "from sklearn.naive_bayes import*"
      ],
      "execution_count": 83,
      "outputs": []
    },
    {
      "cell_type": "markdown",
      "metadata": {
        "id": "GuF6uk2HGacj"
      },
      "source": [
        "# Data gathering and Primary visualization"
      ]
    },
    {
      "cell_type": "code",
      "metadata": {
        "trusted": true,
        "colab": {
          "base_uri": "https://localhost:8080/",
          "height": 326
        },
        "id": "ml0gf2GMGack",
        "outputId": "62c0f871-2ed6-4b64-ac34-dfe6196bf48a"
      },
      "source": [
        "df=pd.read_csv('/content/avocado.csv')\n",
        "df.head()"
      ],
      "execution_count": 84,
      "outputs": [
        {
          "output_type": "execute_result",
          "data": {
            "text/html": [
              "<div>\n",
              "<style scoped>\n",
              "    .dataframe tbody tr th:only-of-type {\n",
              "        vertical-align: middle;\n",
              "    }\n",
              "\n",
              "    .dataframe tbody tr th {\n",
              "        vertical-align: top;\n",
              "    }\n",
              "\n",
              "    .dataframe thead th {\n",
              "        text-align: right;\n",
              "    }\n",
              "</style>\n",
              "<table border=\"1\" class=\"dataframe\">\n",
              "  <thead>\n",
              "    <tr style=\"text-align: right;\">\n",
              "      <th></th>\n",
              "      <th>Unnamed: 0</th>\n",
              "      <th>Date</th>\n",
              "      <th>AveragePrice</th>\n",
              "      <th>Total Volume</th>\n",
              "      <th>4046</th>\n",
              "      <th>4225</th>\n",
              "      <th>4770</th>\n",
              "      <th>Total Bags</th>\n",
              "      <th>Small Bags</th>\n",
              "      <th>Large Bags</th>\n",
              "      <th>XLarge Bags</th>\n",
              "      <th>type</th>\n",
              "      <th>year</th>\n",
              "      <th>region</th>\n",
              "    </tr>\n",
              "  </thead>\n",
              "  <tbody>\n",
              "    <tr>\n",
              "      <th>0</th>\n",
              "      <td>0</td>\n",
              "      <td>2015-12-27</td>\n",
              "      <td>1.33</td>\n",
              "      <td>64236.62</td>\n",
              "      <td>1036.74</td>\n",
              "      <td>54454.85</td>\n",
              "      <td>48.16</td>\n",
              "      <td>8696.87</td>\n",
              "      <td>8603.62</td>\n",
              "      <td>93.25</td>\n",
              "      <td>0.0</td>\n",
              "      <td>conventional</td>\n",
              "      <td>2015</td>\n",
              "      <td>Albany</td>\n",
              "    </tr>\n",
              "    <tr>\n",
              "      <th>1</th>\n",
              "      <td>1</td>\n",
              "      <td>2015-12-20</td>\n",
              "      <td>1.35</td>\n",
              "      <td>54876.98</td>\n",
              "      <td>674.28</td>\n",
              "      <td>44638.81</td>\n",
              "      <td>58.33</td>\n",
              "      <td>9505.56</td>\n",
              "      <td>9408.07</td>\n",
              "      <td>97.49</td>\n",
              "      <td>0.0</td>\n",
              "      <td>conventional</td>\n",
              "      <td>2015</td>\n",
              "      <td>Albany</td>\n",
              "    </tr>\n",
              "    <tr>\n",
              "      <th>2</th>\n",
              "      <td>2</td>\n",
              "      <td>2015-12-13</td>\n",
              "      <td>0.93</td>\n",
              "      <td>118220.22</td>\n",
              "      <td>794.70</td>\n",
              "      <td>109149.67</td>\n",
              "      <td>130.50</td>\n",
              "      <td>8145.35</td>\n",
              "      <td>8042.21</td>\n",
              "      <td>103.14</td>\n",
              "      <td>0.0</td>\n",
              "      <td>conventional</td>\n",
              "      <td>2015</td>\n",
              "      <td>Albany</td>\n",
              "    </tr>\n",
              "    <tr>\n",
              "      <th>3</th>\n",
              "      <td>3</td>\n",
              "      <td>2015-12-06</td>\n",
              "      <td>1.08</td>\n",
              "      <td>78992.15</td>\n",
              "      <td>1132.00</td>\n",
              "      <td>71976.41</td>\n",
              "      <td>72.58</td>\n",
              "      <td>5811.16</td>\n",
              "      <td>5677.40</td>\n",
              "      <td>133.76</td>\n",
              "      <td>0.0</td>\n",
              "      <td>conventional</td>\n",
              "      <td>2015</td>\n",
              "      <td>Albany</td>\n",
              "    </tr>\n",
              "    <tr>\n",
              "      <th>4</th>\n",
              "      <td>4</td>\n",
              "      <td>2015-11-29</td>\n",
              "      <td>1.28</td>\n",
              "      <td>51039.60</td>\n",
              "      <td>941.48</td>\n",
              "      <td>43838.39</td>\n",
              "      <td>75.78</td>\n",
              "      <td>6183.95</td>\n",
              "      <td>5986.26</td>\n",
              "      <td>197.69</td>\n",
              "      <td>0.0</td>\n",
              "      <td>conventional</td>\n",
              "      <td>2015</td>\n",
              "      <td>Albany</td>\n",
              "    </tr>\n",
              "  </tbody>\n",
              "</table>\n",
              "</div>"
            ],
            "text/plain": [
              "   Unnamed: 0        Date  AveragePrice  ...          type  year  region\n",
              "0           0  2015-12-27          1.33  ...  conventional  2015  Albany\n",
              "1           1  2015-12-20          1.35  ...  conventional  2015  Albany\n",
              "2           2  2015-12-13          0.93  ...  conventional  2015  Albany\n",
              "3           3  2015-12-06          1.08  ...  conventional  2015  Albany\n",
              "4           4  2015-11-29          1.28  ...  conventional  2015  Albany\n",
              "\n",
              "[5 rows x 14 columns]"
            ]
          },
          "metadata": {
            "tags": []
          },
          "execution_count": 84
        }
      ]
    },
    {
      "cell_type": "code",
      "metadata": {
        "trusted": true,
        "colab": {
          "base_uri": "https://localhost:8080/"
        },
        "id": "PvDcEQx5Gack",
        "outputId": "4a355f8d-cb07-4cc4-faeb-ad578acb7e56"
      },
      "source": [
        "df.info()"
      ],
      "execution_count": 85,
      "outputs": [
        {
          "output_type": "stream",
          "text": [
            "<class 'pandas.core.frame.DataFrame'>\n",
            "RangeIndex: 18249 entries, 0 to 18248\n",
            "Data columns (total 14 columns):\n",
            " #   Column        Non-Null Count  Dtype  \n",
            "---  ------        --------------  -----  \n",
            " 0   Unnamed: 0    18249 non-null  int64  \n",
            " 1   Date          18249 non-null  object \n",
            " 2   AveragePrice  18249 non-null  float64\n",
            " 3   Total Volume  18249 non-null  float64\n",
            " 4   4046          18249 non-null  float64\n",
            " 5   4225          18249 non-null  float64\n",
            " 6   4770          18249 non-null  float64\n",
            " 7   Total Bags    18249 non-null  float64\n",
            " 8   Small Bags    18249 non-null  float64\n",
            " 9   Large Bags    18249 non-null  float64\n",
            " 10  XLarge Bags   18249 non-null  float64\n",
            " 11  type          18249 non-null  object \n",
            " 12  year          18249 non-null  int64  \n",
            " 13  region        18249 non-null  object \n",
            "dtypes: float64(9), int64(2), object(3)\n",
            "memory usage: 1.9+ MB\n"
          ],
          "name": "stdout"
        }
      ]
    },
    {
      "cell_type": "code",
      "metadata": {
        "trusted": true,
        "colab": {
          "base_uri": "https://localhost:8080/"
        },
        "id": "HobIsnZeGack",
        "outputId": "600ee82d-3ee2-40c0-8986-21fca24bd2e2"
      },
      "source": [
        "print('shape of the data :',df.shape)"
      ],
      "execution_count": 86,
      "outputs": [
        {
          "output_type": "stream",
          "text": [
            "shape of the data : (18249, 14)\n"
          ],
          "name": "stdout"
        }
      ]
    },
    {
      "cell_type": "markdown",
      "metadata": {
        "id": "dZr961qaGacl"
      },
      "source": [
        "If there is any duplicates we can remove them now."
      ]
    },
    {
      "cell_type": "code",
      "metadata": {
        "trusted": true,
        "colab": {
          "base_uri": "https://localhost:8080/"
        },
        "id": "rNJ1oU5TGacl",
        "outputId": "670484cb-dcb1-4914-a3f5-347babcba19b"
      },
      "source": [
        "print('total number of duplicate values : ',sum(df.duplicated()))"
      ],
      "execution_count": 87,
      "outputs": [
        {
          "output_type": "stream",
          "text": [
            "total number of duplicate values :  0\n"
          ],
          "name": "stdout"
        }
      ]
    },
    {
      "cell_type": "markdown",
      "metadata": {
        "id": "wUqpWGRlGacl"
      },
      "source": [
        "So we do not have to drop any row or column and we can proceed to the next step."
      ]
    },
    {
      "cell_type": "markdown",
      "metadata": {
        "id": "wdnOeD9EGacl"
      },
      "source": [
        "# Train and validation data"
      ]
    },
    {
      "cell_type": "markdown",
      "metadata": {
        "id": "ItC0hx8WGacm"
      },
      "source": [
        "As we are predicting the price of the avocados we are going to put the prices column in the Y and rest of the data in X"
      ]
    },
    {
      "cell_type": "code",
      "metadata": {
        "trusted": true,
        "id": "vu19uRu_Gacm"
      },
      "source": [
        "X=df.drop('AveragePrice',1)\n",
        "y=df['AveragePrice']"
      ],
      "execution_count": 88,
      "outputs": []
    },
    {
      "cell_type": "code",
      "metadata": {
        "trusted": true,
        "colab": {
          "base_uri": "https://localhost:8080/"
        },
        "id": "xAzDL3jFGacm",
        "outputId": "2f2d2cfc-3c64-453e-89da-586784946278"
      },
      "source": [
        "print('shape of X and y respectively :',X.shape,y.shape)"
      ],
      "execution_count": 89,
      "outputs": [
        {
          "output_type": "stream",
          "text": [
            "shape of X and y respectively : (18249, 13) (18249,)\n"
          ],
          "name": "stdout"
        }
      ]
    },
    {
      "cell_type": "markdown",
      "metadata": {
        "id": "H37g0MWIGacm"
      },
      "source": [
        "As the dataset is medium in size we can perform a 80-20 train test split over the dataset."
      ]
    },
    {
      "cell_type": "code",
      "metadata": {
        "trusted": true,
        "id": "9kn6ZBmhGacn"
      },
      "source": [
        "X_train,X_test,y_train,y_test=train_test_split(X,y,test_size=0.2,random_state=0)"
      ],
      "execution_count": 90,
      "outputs": []
    },
    {
      "cell_type": "code",
      "metadata": {
        "trusted": true,
        "colab": {
          "base_uri": "https://localhost:8080/"
        },
        "id": "F34123nrGacn",
        "outputId": "14693f1a-dd56-4dad-d7d3-451867ce536a"
      },
      "source": [
        "print('shape of X and y respectively(train) :',X_train.shape,y_train.shape)\n",
        "print('shape of X and y respectively(test) :',X_test.shape,y_test.shape)"
      ],
      "execution_count": 91,
      "outputs": [
        {
          "output_type": "stream",
          "text": [
            "shape of X and y respectively(train) : (14599, 13) (14599,)\n",
            "shape of X and y respectively(test) : (3650, 13) (3650,)\n"
          ],
          "name": "stdout"
        }
      ]
    },
    {
      "cell_type": "code",
      "metadata": {
        "_kg_hide-input": true,
        "trusted": true,
        "id": "Pcnd4uE1Gacn"
      },
      "source": [
        "cols=X_train.columns"
      ],
      "execution_count": 92,
      "outputs": []
    },
    {
      "cell_type": "markdown",
      "metadata": {
        "id": "qTer2e7DGacn"
      },
      "source": [
        "# Preprocessing"
      ]
    },
    {
      "cell_type": "markdown",
      "metadata": {
        "id": "zJP6SLRRslWm"
      },
      "source": [
        "#### Encoding"
      ]
    },
    {
      "cell_type": "markdown",
      "metadata": {
        "id": "EK7rQNsmGaco"
      },
      "source": [
        "At first we have to encode all the categorical columns to dig deep into the data."
      ]
    },
    {
      "cell_type": "code",
      "metadata": {
        "trusted": true,
        "id": "GgzO8EhsGaco"
      },
      "source": [
        "scaler=LabelEncoder()"
      ],
      "execution_count": 93,
      "outputs": []
    },
    {
      "cell_type": "code",
      "metadata": {
        "_kg_hide-output": true,
        "trusted": true,
        "colab": {
          "base_uri": "https://localhost:8080/"
        },
        "id": "mYqqr8ufGaco",
        "outputId": "8d832282-e076-42a1-d970-46d65f621b3c"
      },
      "source": [
        "for col in X_train.columns:\n",
        "    if df[col].dtype=='object':\n",
        "        X_train[col]=scaler.fit_transform(X_train[col])\n",
        "        X_test[col]=scaler.transform(X_test[col])"
      ],
      "execution_count": 94,
      "outputs": [
        {
          "output_type": "stream",
          "text": [
            "/usr/local/lib/python3.6/dist-packages/ipykernel_launcher.py:3: SettingWithCopyWarning: \n",
            "A value is trying to be set on a copy of a slice from a DataFrame.\n",
            "Try using .loc[row_indexer,col_indexer] = value instead\n",
            "\n",
            "See the caveats in the documentation: https://pandas.pydata.org/pandas-docs/stable/user_guide/indexing.html#returning-a-view-versus-a-copy\n",
            "  This is separate from the ipykernel package so we can avoid doing imports until\n",
            "/usr/local/lib/python3.6/dist-packages/ipykernel_launcher.py:4: SettingWithCopyWarning: \n",
            "A value is trying to be set on a copy of a slice from a DataFrame.\n",
            "Try using .loc[row_indexer,col_indexer] = value instead\n",
            "\n",
            "See the caveats in the documentation: https://pandas.pydata.org/pandas-docs/stable/user_guide/indexing.html#returning-a-view-versus-a-copy\n",
            "  after removing the cwd from sys.path.\n"
          ],
          "name": "stderr"
        }
      ]
    },
    {
      "cell_type": "code",
      "metadata": {
        "trusted": true,
        "colab": {
          "base_uri": "https://localhost:8080/",
          "height": 221
        },
        "id": "lrwczIy1Gaco",
        "outputId": "92b2a591-13ed-434f-bb2c-f63810850db6"
      },
      "source": [
        "X_train.head()"
      ],
      "execution_count": 95,
      "outputs": [
        {
          "output_type": "execute_result",
          "data": {
            "text/html": [
              "<div>\n",
              "<style scoped>\n",
              "    .dataframe tbody tr th:only-of-type {\n",
              "        vertical-align: middle;\n",
              "    }\n",
              "\n",
              "    .dataframe tbody tr th {\n",
              "        vertical-align: top;\n",
              "    }\n",
              "\n",
              "    .dataframe thead th {\n",
              "        text-align: right;\n",
              "    }\n",
              "</style>\n",
              "<table border=\"1\" class=\"dataframe\">\n",
              "  <thead>\n",
              "    <tr style=\"text-align: right;\">\n",
              "      <th></th>\n",
              "      <th>Unnamed: 0</th>\n",
              "      <th>Date</th>\n",
              "      <th>Total Volume</th>\n",
              "      <th>4046</th>\n",
              "      <th>4225</th>\n",
              "      <th>4770</th>\n",
              "      <th>Total Bags</th>\n",
              "      <th>Small Bags</th>\n",
              "      <th>Large Bags</th>\n",
              "      <th>XLarge Bags</th>\n",
              "      <th>type</th>\n",
              "      <th>year</th>\n",
              "      <th>region</th>\n",
              "    </tr>\n",
              "  </thead>\n",
              "  <tbody>\n",
              "    <tr>\n",
              "      <th>14902</th>\n",
              "      <td>2</td>\n",
              "      <td>154</td>\n",
              "      <td>1797.04</td>\n",
              "      <td>28.34</td>\n",
              "      <td>552.03</td>\n",
              "      <td>0.00</td>\n",
              "      <td>1216.67</td>\n",
              "      <td>264.39</td>\n",
              "      <td>952.28</td>\n",
              "      <td>0.00</td>\n",
              "      <td>1</td>\n",
              "      <td>2017</td>\n",
              "      <td>3</td>\n",
              "    </tr>\n",
              "    <tr>\n",
              "      <th>7537</th>\n",
              "      <td>13</td>\n",
              "      <td>143</td>\n",
              "      <td>362296.15</td>\n",
              "      <td>97772.92</td>\n",
              "      <td>104336.09</td>\n",
              "      <td>14152.16</td>\n",
              "      <td>146034.98</td>\n",
              "      <td>92339.30</td>\n",
              "      <td>52994.80</td>\n",
              "      <td>700.88</td>\n",
              "      <td>0</td>\n",
              "      <td>2017</td>\n",
              "      <td>36</td>\n",
              "    </tr>\n",
              "    <tr>\n",
              "      <th>9720</th>\n",
              "      <td>22</td>\n",
              "      <td>29</td>\n",
              "      <td>12801.03</td>\n",
              "      <td>11536.00</td>\n",
              "      <td>337.16</td>\n",
              "      <td>0.00</td>\n",
              "      <td>927.87</td>\n",
              "      <td>927.87</td>\n",
              "      <td>0.00</td>\n",
              "      <td>0.00</td>\n",
              "      <td>1</td>\n",
              "      <td>2015</td>\n",
              "      <td>11</td>\n",
              "    </tr>\n",
              "    <tr>\n",
              "      <th>2105</th>\n",
              "      <td>25</td>\n",
              "      <td>26</td>\n",
              "      <td>550810.62</td>\n",
              "      <td>161220.26</td>\n",
              "      <td>305122.62</td>\n",
              "      <td>17131.92</td>\n",
              "      <td>67335.82</td>\n",
              "      <td>67335.82</td>\n",
              "      <td>0.00</td>\n",
              "      <td>0.00</td>\n",
              "      <td>0</td>\n",
              "      <td>2015</td>\n",
              "      <td>40</td>\n",
              "    </tr>\n",
              "    <tr>\n",
              "      <th>18083</th>\n",
              "      <td>2</td>\n",
              "      <td>166</td>\n",
              "      <td>8634.75</td>\n",
              "      <td>2317.50</td>\n",
              "      <td>3561.20</td>\n",
              "      <td>0.00</td>\n",
              "      <td>2756.05</td>\n",
              "      <td>2752.63</td>\n",
              "      <td>3.42</td>\n",
              "      <td>0.00</td>\n",
              "      <td>1</td>\n",
              "      <td>2018</td>\n",
              "      <td>40</td>\n",
              "    </tr>\n",
              "  </tbody>\n",
              "</table>\n",
              "</div>"
            ],
            "text/plain": [
              "       Unnamed: 0  Date  Total Volume  ...  type  year  region\n",
              "14902           2   154       1797.04  ...     1  2017       3\n",
              "7537           13   143     362296.15  ...     0  2017      36\n",
              "9720           22    29      12801.03  ...     1  2015      11\n",
              "2105           25    26     550810.62  ...     0  2015      40\n",
              "18083           2   166       8634.75  ...     1  2018      40\n",
              "\n",
              "[5 rows x 13 columns]"
            ]
          },
          "metadata": {
            "tags": []
          },
          "execution_count": 95
        }
      ]
    },
    {
      "cell_type": "markdown",
      "metadata": {
        "id": "Zbw-VQ8OsoZr"
      },
      "source": [
        "#### Variance thresholding"
      ]
    },
    {
      "cell_type": "markdown",
      "metadata": {
        "id": "rQIYnrKoGaco"
      },
      "source": [
        "Now after encoding the dataframe we have to omit the columns which are not contributing any pattern or key for finding good accuracy. That means we are going to drop the columns which have less variance than 0.1"
      ]
    },
    {
      "cell_type": "code",
      "metadata": {
        "trusted": true,
        "id": "cnnrWecdGacp"
      },
      "source": [
        "scaler=VarianceThreshold(0.1)"
      ],
      "execution_count": 96,
      "outputs": []
    },
    {
      "cell_type": "code",
      "metadata": {
        "trusted": true,
        "id": "gFbmqwZRGacp"
      },
      "source": [
        "X_train=scaler.fit_transform(X_train)\n",
        "X_test=scaler.transform(X_test)"
      ],
      "execution_count": 97,
      "outputs": []
    },
    {
      "cell_type": "code",
      "metadata": {
        "trusted": true,
        "colab": {
          "base_uri": "https://localhost:8080/"
        },
        "id": "M_1p8UbpGacp",
        "outputId": "4008c3e8-8824-429e-c8b4-a6882547b18b"
      },
      "source": [
        "print('shape of X (train) :',X_train.shape)\n",
        "print('shape of X (test) :',X_test.shape)"
      ],
      "execution_count": 98,
      "outputs": [
        {
          "output_type": "stream",
          "text": [
            "shape of X (train) : (14599, 13)\n",
            "shape of X (test) : (3650, 13)\n"
          ],
          "name": "stdout"
        }
      ]
    },
    {
      "cell_type": "markdown",
      "metadata": {
        "id": "m19huqegGacp"
      },
      "source": [
        "Now we have found that every single  column is useful for predicting the data"
      ]
    },
    {
      "cell_type": "markdown",
      "metadata": {
        "id": "Ik4zbVEesul0"
      },
      "source": [
        "#### Scaling"
      ]
    },
    {
      "cell_type": "code",
      "metadata": {
        "colab": {
          "base_uri": "https://localhost:8080/",
          "height": 282
        },
        "id": "IynaNKktIzGd",
        "outputId": "e2789fbb-4dfe-466d-ccd4-78a657dfac51"
      },
      "source": [
        "plt.plot(X_train[0])"
      ],
      "execution_count": 99,
      "outputs": [
        {
          "output_type": "execute_result",
          "data": {
            "text/plain": [
              "[<matplotlib.lines.Line2D at 0x7ff7e6a897f0>]"
            ]
          },
          "metadata": {
            "tags": []
          },
          "execution_count": 99
        },
        {
          "output_type": "display_data",
          "data": {
            "image/png": "[encoded data removed]",
            "text/plain": [
              "<Figure size 432x288 with 1 Axes>"
            ]
          },
          "metadata": {
            "tags": [],
            "needs_background": "light"
          }
        }
      ]
    },
    {
      "cell_type": "markdown",
      "metadata": {
        "id": "FNr15cj2I54U"
      },
      "source": [
        "This graph shows that the every single feature has different value ranges. So we need to scale the data for better performances."
      ]
    },
    {
      "cell_type": "code",
      "metadata": {
        "id": "i673ia6BJHdE"
      },
      "source": [
        "scaler=StandardScaler()\r\n"
      ],
      "execution_count": 100,
      "outputs": []
    },
    {
      "cell_type": "code",
      "metadata": {
        "id": "f6mssFvJJKxt"
      },
      "source": [
        "X_train=scaler.fit_transform(X_train)\r\n",
        "X_test=scaler.transform(X_test)"
      ],
      "execution_count": 101,
      "outputs": []
    },
    {
      "cell_type": "code",
      "metadata": {
        "trusted": true,
        "colab": {
          "base_uri": "https://localhost:8080/"
        },
        "id": "i_-TSIupGacq",
        "outputId": "135b3d55-50d6-4b05-d908-bf1c1015cf15"
      },
      "source": [
        "print(\"Type of X_train :\",type(X_train))\r\n",
        "print(\"Type of X_test :\",type(X_test))"
      ],
      "execution_count": 102,
      "outputs": [
        {
          "output_type": "stream",
          "text": [
            "Type of X_train : <class 'numpy.ndarray'>\n",
            "Type of X_test : <class 'numpy.ndarray'>\n"
          ],
          "name": "stdout"
        }
      ]
    },
    {
      "cell_type": "markdown",
      "metadata": {
        "id": "vgaXBIY9Gacq"
      },
      "source": [
        "So basically after using the variance thershold and standard scaler of sklearn module we have changed the pandas dataframe in numpy ndarray. So we are  going to convert them into pandas dataframe."
      ]
    },
    {
      "cell_type": "code",
      "metadata": {
        "trusted": true,
        "colab": {
          "base_uri": "https://localhost:8080/",
          "height": 241
        },
        "id": "cjwQFhVgGacq",
        "outputId": "402e9533-33b4-4fed-9245-2044391971cc"
      },
      "source": [
        "X_train=pd.DataFrame(X_train,columns=cols)\n",
        "X_train.head()\n",
        "X_test=pd.DataFrame(X_test,columns=cols)\n",
        "X_test.head()"
      ],
      "execution_count": 103,
      "outputs": [
        {
          "output_type": "execute_result",
          "data": {
            "text/html": [
              "<div>\n",
              "<style scoped>\n",
              "    .dataframe tbody tr th:only-of-type {\n",
              "        vertical-align: middle;\n",
              "    }\n",
              "\n",
              "    .dataframe tbody tr th {\n",
              "        vertical-align: top;\n",
              "    }\n",
              "\n",
              "    .dataframe thead th {\n",
              "        text-align: right;\n",
              "    }\n",
              "</style>\n",
              "<table border=\"1\" class=\"dataframe\">\n",
              "  <thead>\n",
              "    <tr style=\"text-align: right;\">\n",
              "      <th></th>\n",
              "      <th>Unnamed: 0</th>\n",
              "      <th>Date</th>\n",
              "      <th>Total Volume</th>\n",
              "      <th>4046</th>\n",
              "      <th>4225</th>\n",
              "      <th>4770</th>\n",
              "      <th>Total Bags</th>\n",
              "      <th>Small Bags</th>\n",
              "      <th>Large Bags</th>\n",
              "      <th>XLarge Bags</th>\n",
              "      <th>type</th>\n",
              "      <th>year</th>\n",
              "      <th>region</th>\n",
              "    </tr>\n",
              "  </thead>\n",
              "  <tbody>\n",
              "    <tr>\n",
              "      <th>0</th>\n",
              "      <td>-1.369115</td>\n",
              "      <td>-0.735660</td>\n",
              "      <td>-0.244631</td>\n",
              "      <td>-0.229176</td>\n",
              "      <td>-0.242334</td>\n",
              "      <td>-0.214369</td>\n",
              "      <td>-0.242536</td>\n",
              "      <td>-0.245279</td>\n",
              "      <td>-0.216549</td>\n",
              "      <td>-0.177445</td>\n",
              "      <td>1.007080</td>\n",
              "      <td>-1.218764</td>\n",
              "      <td>-1.634131</td>\n",
              "    </tr>\n",
              "    <tr>\n",
              "      <th>1</th>\n",
              "      <td>0.046012</td>\n",
              "      <td>-1.185734</td>\n",
              "      <td>-0.189818</td>\n",
              "      <td>-0.226356</td>\n",
              "      <td>-0.143668</td>\n",
              "      <td>-0.085100</td>\n",
              "      <td>-0.188836</td>\n",
              "      <td>-0.203317</td>\n",
              "      <td>-0.133165</td>\n",
              "      <td>-0.107003</td>\n",
              "      <td>-0.992969</td>\n",
              "      <td>-1.218764</td>\n",
              "      <td>-0.479388</td>\n",
              "    </tr>\n",
              "    <tr>\n",
              "      <th>2</th>\n",
              "      <td>1.010872</td>\n",
              "      <td>-0.428790</td>\n",
              "      <td>0.061641</td>\n",
              "      <td>-0.146391</td>\n",
              "      <td>0.051818</td>\n",
              "      <td>-0.124087</td>\n",
              "      <td>0.358279</td>\n",
              "      <td>0.102441</td>\n",
              "      <td>1.144522</td>\n",
              "      <td>-0.177445</td>\n",
              "      <td>1.007080</td>\n",
              "      <td>-0.158916</td>\n",
              "      <td>1.573490</td>\n",
              "    </tr>\n",
              "    <tr>\n",
              "      <th>3</th>\n",
              "      <td>-0.532903</td>\n",
              "      <td>1.146472</td>\n",
              "      <td>-0.243018</td>\n",
              "      <td>-0.230010</td>\n",
              "      <td>-0.240243</td>\n",
              "      <td>-0.214369</td>\n",
              "      <td>-0.238336</td>\n",
              "      <td>-0.242477</td>\n",
              "      <td>-0.208167</td>\n",
              "      <td>-0.177445</td>\n",
              "      <td>1.007080</td>\n",
              "      <td>0.900933</td>\n",
              "      <td>-1.120912</td>\n",
              "    </tr>\n",
              "    <tr>\n",
              "      <th>4</th>\n",
              "      <td>-0.918847</td>\n",
              "      <td>1.514715</td>\n",
              "      <td>-0.241159</td>\n",
              "      <td>-0.229041</td>\n",
              "      <td>-0.241291</td>\n",
              "      <td>-0.207405</td>\n",
              "      <td>-0.232473</td>\n",
              "      <td>-0.230435</td>\n",
              "      <td>-0.221276</td>\n",
              "      <td>-0.177445</td>\n",
              "      <td>1.007080</td>\n",
              "      <td>1.960781</td>\n",
              "      <td>1.701795</td>\n",
              "    </tr>\n",
              "  </tbody>\n",
              "</table>\n",
              "</div>"
            ],
            "text/plain": [
              "   Unnamed: 0      Date  Total Volume  ...      type      year    region\n",
              "0   -1.369115 -0.735660     -0.244631  ...  1.007080 -1.218764 -1.634131\n",
              "1    0.046012 -1.185734     -0.189818  ... -0.992969 -1.218764 -0.479388\n",
              "2    1.010872 -0.428790      0.061641  ...  1.007080 -0.158916  1.573490\n",
              "3   -0.532903  1.146472     -0.243018  ...  1.007080  0.900933 -1.120912\n",
              "4   -0.918847  1.514715     -0.241159  ...  1.007080  1.960781  1.701795\n",
              "\n",
              "[5 rows x 13 columns]"
            ]
          },
          "metadata": {
            "tags": []
          },
          "execution_count": 103
        }
      ]
    },
    {
      "cell_type": "code",
      "metadata": {
        "colab": {
          "base_uri": "https://localhost:8080/"
        },
        "id": "1_Ucw8ExLrt-",
        "outputId": "bb172be5-6bfc-4dc2-e954-9e5cc54eaae4"
      },
      "source": [
        "print('Type of X_train and X_test :',type(X_train),type(X_test))"
      ],
      "execution_count": 104,
      "outputs": [
        {
          "output_type": "stream",
          "text": [
            "Type of X_train and X_test : <class 'pandas.core.frame.DataFrame'> <class 'pandas.core.frame.DataFrame'>\n"
          ],
          "name": "stdout"
        }
      ]
    },
    {
      "cell_type": "markdown",
      "metadata": {
        "id": "8WqH9BHQGacq"
      },
      "source": [
        "Now we can start the prediction."
      ]
    },
    {
      "cell_type": "markdown",
      "metadata": {
        "id": "3GL-25GpGacq"
      },
      "source": [
        "# Pipelines"
      ]
    },
    {
      "cell_type": "markdown",
      "metadata": {
        "id": "dB8sGXX7Gacr"
      },
      "source": [
        "As this is a regression problem we are going to use famous regression models -\r\n",
        "   1. Polynomial Regressor\r\n",
        "   2. RandomForest Regressor\r\n",
        "   3. Ridge Regressor\r\n",
        "   4. Lasso Regressor\r\n",
        "   5. Bayesian Ridge Regressor"
      ]
    },
    {
      "cell_type": "code",
      "metadata": {
        "id": "qc-_u6nMhfeX"
      },
      "source": [
        "actr=[]\r\n",
        "acts=[]\r\n",
        "lstr=[]\r\n",
        "lsts=[]"
      ],
      "execution_count": 105,
      "outputs": []
    },
    {
      "cell_type": "markdown",
      "metadata": {
        "id": "73x6GuXRGacr"
      },
      "source": [
        "### Polynomial Regression"
      ]
    },
    {
      "cell_type": "code",
      "metadata": {
        "trusted": true,
        "id": "zC1c98ErGacr"
      },
      "source": [
        "loss=[]\n",
        "val_loss=[]"
      ],
      "execution_count": 106,
      "outputs": []
    },
    {
      "cell_type": "code",
      "metadata": {
        "id": "gdajtrQZKyGP"
      },
      "source": [
        "for i in range(2,5):\r\n",
        "  clf=make_pipeline(PolynomialFeatures(i),LinearRegression())\r\n",
        "  clf.fit(X_train,y_train)\r\n",
        "  y_pr=clf.predict(X_test)\r\n",
        "  y_x=clf.predict(X_train)\r\n",
        "  loss.append(mean_squared_error(y_train,y_x))\r\n",
        "  val_loss.append(mean_squared_error(y_test,y_pr))"
      ],
      "execution_count": 107,
      "outputs": []
    },
    {
      "cell_type": "code",
      "metadata": {
        "trusted": true,
        "id": "vrOkVk44Gacr",
        "colab": {
          "base_uri": "https://localhost:8080/",
          "height": 295
        },
        "outputId": "9049dda6-db25-49c9-f5e3-b457f61286c2"
      },
      "source": [
        "plt.title('Model Loss')\n",
        "plt.xlabel('degree')\n",
        "plt.ylabel('MSE loss')\n",
        "plt.plot(range(2,5),loss/np.mean(loss),label='train loss')\n",
        "plt.plot(range(2,5),val_loss/np.mean(val_loss),label='validation loss')\n",
        "plt.legend()\n",
        "plt.show()"
      ],
      "execution_count": 108,
      "outputs": [
        {
          "output_type": "display_data",
          "data": {
            "image/png": "[encoded data removed]",
            "text/plain": [
              "<Figure size 432x288 with 1 Axes>"
            ]
          },
          "metadata": {
            "tags": [],
            "needs_background": "light"
          }
        }
      ]
    },
    {
      "cell_type": "markdown",
      "metadata": {
        "id": "gkfm2d8AM7h0"
      },
      "source": [
        "We can say that degree =3 is appropriate for the model as the validation has too little loss and after that it reaches to a very high peak. That means after degree>3 ,the model is overfitting."
      ]
    },
    {
      "cell_type": "code",
      "metadata": {
        "colab": {
          "base_uri": "https://localhost:8080/"
        },
        "id": "VQjSNIvoRLzX",
        "outputId": "f02d722f-2c6c-413c-a63f-6eb9c4806dc8"
      },
      "source": [
        "print('Train loss and validation loss of the polynomial function model :',loss[1],'and',val_loss[1])"
      ],
      "execution_count": 109,
      "outputs": [
        {
          "output_type": "stream",
          "text": [
            "Train loss and validation loss of the polynomial function model : 0.05922412150544968 0.09149022900344186\n"
          ],
          "name": "stdout"
        }
      ]
    },
    {
      "cell_type": "code",
      "metadata": {
        "colab": {
          "base_uri": "https://localhost:8080/"
        },
        "id": "9Jqgbj3aR3nt",
        "outputId": "7e369bdf-85b3-46c3-9a11-b4e6f964fead"
      },
      "source": [
        "clf=make_pipeline(PolynomialFeatures(3),LinearRegression())\r\n",
        "clf.fit(X_train,y_train)\r\n",
        "print('train accuracy :',clf.score(X_train,y_train))\r\n",
        "print('test accuracy :',clf.score(X_test,y_test))"
      ],
      "execution_count": 110,
      "outputs": [
        {
          "output_type": "stream",
          "text": [
            "train accuracy : 0.6342409917733671\n",
            "test accuracy : 0.4383193607355418\n"
          ],
          "name": "stdout"
        }
      ]
    },
    {
      "cell_type": "markdown",
      "metadata": {
        "id": "cBJR2bX9SyMx"
      },
      "source": [
        "Though degree=3 has the best accuracy over the polynomial function still it is very low and we can see that the valiation accurcay is less than 50%. So, it is not a good model."
      ]
    },
    {
      "cell_type": "code",
      "metadata": {
        "id": "yuG7YLH7hw9Q"
      },
      "source": [
        "actr.append(clf.score(X_train,y_train))\r\n",
        "acts.append(clf.score(X_test,y_test))\r\n",
        "lstr.append(loss[1])\r\n",
        "lsts.append(val_loss[1])"
      ],
      "execution_count": 111,
      "outputs": []
    },
    {
      "cell_type": "markdown",
      "metadata": {
        "id": "WiM9-tL3QmOf"
      },
      "source": [
        "### Random Forest Regression"
      ]
    },
    {
      "cell_type": "code",
      "metadata": {
        "id": "jEGAg3vwQlhF"
      },
      "source": [
        "clf=RandomForestRegressor(random_state=0)"
      ],
      "execution_count": 112,
      "outputs": []
    },
    {
      "cell_type": "code",
      "metadata": {
        "colab": {
          "base_uri": "https://localhost:8080/"
        },
        "id": "V2bHNSb1UBlu",
        "outputId": "f8e40093-65c8-4064-a4a6-b4a621cc15d6"
      },
      "source": [
        "clf.fit(X_train,y_train)\r\n",
        "y_tr1=clf.predict(X_train)\r\n",
        "y_pr=clf.predict(X_test)\r\n",
        "\r\n",
        "print('train data accuracy :',clf.score(X_train,y_train))\r\n",
        "print('test data accuracy :',clf.score(X_test,y_test))\r\n",
        "print('loss of train data :',mean_squared_error(y_train,y_tr1))\r\n",
        "print('loss of test data :',mean_squared_error(y_test,y_pr))"
      ],
      "execution_count": 113,
      "outputs": [
        {
          "output_type": "stream",
          "text": [
            "train data accuracy : 0.9870696087994129\n",
            "test data accuracy : 0.9043277549814706\n",
            "loss of train data : 0.002093703893417357\n",
            "loss of test data : 0.01558372319452054\n"
          ],
          "name": "stdout"
        }
      ]
    },
    {
      "cell_type": "markdown",
      "metadata": {
        "id": "vmhjmeJ4cn26"
      },
      "source": [
        "So we can see the RFR really predicts the model very well and gives a quite accurate prediction."
      ]
    },
    {
      "cell_type": "code",
      "metadata": {
        "id": "ka8WmtDriKre"
      },
      "source": [
        "actr.append(clf.score(X_train,y_train))\r\n",
        "acts.append(clf.score(X_test,y_test))\r\n",
        "lstr.append(mean_squared_error(y_train,y_tr1))\r\n",
        "lsts.append(mean_squared_error(y_test,y_pr))"
      ],
      "execution_count": 114,
      "outputs": []
    },
    {
      "cell_type": "markdown",
      "metadata": {
        "id": "lrJ1em5vc5BF"
      },
      "source": [
        "### Ridge Regressor"
      ]
    },
    {
      "cell_type": "code",
      "metadata": {
        "id": "1tM9IwM2eyBm"
      },
      "source": [
        "loss=[]\r\n",
        "val_loss=[]"
      ],
      "execution_count": 115,
      "outputs": []
    },
    {
      "cell_type": "code",
      "metadata": {
        "id": "pmcpoiKgdGZX"
      },
      "source": [
        "for i in range(1,11):\r\n",
        "  clf=Ridge(random_state=0,alpha=i/100.0)\r\n",
        "  clf.fit(X_train,y_train)\r\n",
        "  y_pr=clf.predict(X_test)\r\n",
        "  y_x=clf.predict(X_train)\r\n",
        "  loss.append(mean_squared_error(y_train,y_x))\r\n",
        "  val_loss.append(mean_squared_error(y_test,y_pr))"
      ],
      "execution_count": 116,
      "outputs": []
    },
    {
      "cell_type": "code",
      "metadata": {
        "colab": {
          "base_uri": "https://localhost:8080/",
          "height": 295
        },
        "id": "LV3yvWGefHrW",
        "outputId": "48d5614f-f8b7-4115-afca-dd172572b966"
      },
      "source": [
        "plt.title('Model Loss')\r\n",
        "plt.xlabel('alpha')\r\n",
        "plt.ylabel('MSE loss')\r\n",
        "plt.plot(np.arange(1,11,1)/100,loss/np.mean(loss),label='train loss')\r\n",
        "plt.plot(np.arange(1,11,1)/100,val_loss/np.mean(val_loss),label='validation loss')\r\n",
        "plt.legend()\r\n",
        "plt.show()"
      ],
      "execution_count": 117,
      "outputs": [
        {
          "output_type": "display_data",
          "data": {
            "image/png": "[encoded data removed]",
            "text/plain": [
              "<Figure size 432x288 with 1 Axes>"
            ]
          },
          "metadata": {
            "tags": [],
            "needs_background": "light"
          }
        }
      ]
    },
    {
      "cell_type": "markdown",
      "metadata": {
        "id": "9c4HMi6HgFAz"
      },
      "source": [
        "So we can say that the increase in alpha also affecting the model badly and giving us more loss than before."
      ]
    },
    {
      "cell_type": "code",
      "metadata": {
        "colab": {
          "base_uri": "https://localhost:8080/"
        },
        "id": "X16cSWxuhQHq",
        "outputId": "e5130f3b-5a40-4e1c-d1ec-22c153811b8a"
      },
      "source": [
        "clf=Ridge(random_state=0,alpha=0.01)\r\n",
        "clf.fit(X_train,y_train)\r\n",
        "y_tr1=clf.predict(X_train)\r\n",
        "y_pr=clf.predict(X_test)\r\n",
        "\r\n",
        "print('train data accuracy :',clf.score(X_train,y_train))\r\n",
        "print('test data accuracy :',clf.score(X_test,y_test))\r\n",
        "print('loss of train data :',mean_squared_error(y_train,y_tr1))\r\n",
        "print('loss of test data :',mean_squared_error(y_test,y_pr))"
      ],
      "execution_count": 118,
      "outputs": [
        {
          "output_type": "stream",
          "text": [
            "train data accuracy : 0.4406070963478731\n",
            "test data accuracy : 0.450490208497514\n",
            "loss of train data : 0.0905775457337527\n",
            "loss of test data : 0.08950776143901407\n"
          ],
          "name": "stdout"
        }
      ]
    },
    {
      "cell_type": "markdown",
      "metadata": {
        "id": "uyTGWiTikI8W"
      },
      "source": [
        "Still this model gives very bad stats in fitting."
      ]
    },
    {
      "cell_type": "code",
      "metadata": {
        "id": "Jlx4E5nVjc5X"
      },
      "source": [
        "actr.append(clf.score(X_train,y_train))\r\n",
        "acts.append(clf.score(X_test,y_test))\r\n",
        "lstr.append(mean_squared_error(y_train,y_tr1))\r\n",
        "lsts.append(mean_squared_error(y_test,y_pr))"
      ],
      "execution_count": 119,
      "outputs": []
    },
    {
      "cell_type": "markdown",
      "metadata": {
        "id": "QHw1WuGbkPlo"
      },
      "source": [
        "### Lasso Regression"
      ]
    },
    {
      "cell_type": "code",
      "metadata": {
        "id": "k38835wzkSoX"
      },
      "source": [
        "loss=[]\r\n",
        "val_loss=[]"
      ],
      "execution_count": 120,
      "outputs": []
    },
    {
      "cell_type": "code",
      "metadata": {
        "id": "FvA3lhE4kXDG"
      },
      "source": [
        "for i in range(1,11):\r\n",
        "  clf=Lasso(random_state=0,alpha=i/100.0)\r\n",
        "  clf.fit(X_train,y_train)\r\n",
        "  y_pr=clf.predict(X_test)\r\n",
        "  y_x=clf.predict(X_train)\r\n",
        "  loss.append(mean_squared_error(y_train,y_x))\r\n",
        "  val_loss.append(mean_squared_error(y_test,y_pr))"
      ],
      "execution_count": 121,
      "outputs": []
    },
    {
      "cell_type": "code",
      "metadata": {
        "colab": {
          "base_uri": "https://localhost:8080/",
          "height": 295
        },
        "id": "L7oNho31kivB",
        "outputId": "750e8f39-af2a-4b42-8280-10627de2227c"
      },
      "source": [
        "plt.title('Model Loss')\r\n",
        "plt.xlabel('alpha')\r\n",
        "plt.ylabel('MSE loss')\r\n",
        "plt.plot(np.arange(1,11,1)/100,loss/np.mean(loss),label='train loss')\r\n",
        "plt.plot(np.arange(1,11,1)/100,val_loss/np.mean(val_loss),label='validation loss')\r\n",
        "plt.legend()\r\n",
        "plt.show()"
      ],
      "execution_count": 122,
      "outputs": [
        {
          "output_type": "display_data",
          "data": {
            "image/png": "[encoded data removed]",
            "text/plain": [
              "<Figure size 432x288 with 1 Axes>"
            ]
          },
          "metadata": {
            "tags": [],
            "needs_background": "light"
          }
        }
      ]
    },
    {
      "cell_type": "markdown",
      "metadata": {
        "id": "xtripGw0kqp9"
      },
      "source": [
        "Lasso model also gives us similar results as we got in Ridge. We're taking the alpha=0.01"
      ]
    },
    {
      "cell_type": "code",
      "metadata": {
        "colab": {
          "base_uri": "https://localhost:8080/"
        },
        "id": "VX9UCeSLky9_",
        "outputId": "80c3a124-946f-4efc-e781-70bb2a8de6d4"
      },
      "source": [
        "clf=Lasso(random_state=0,alpha=0.01)\r\n",
        "clf.fit(X_train,y_train)\r\n",
        "y_tr1=clf.predict(X_train)\r\n",
        "y_pr=clf.predict(X_test)\r\n",
        "\r\n",
        "print('train data accuracy :',clf.score(X_train,y_train))\r\n",
        "print('test data accuracy :',clf.score(X_test,y_test))\r\n",
        "print('loss of train data :',mean_squared_error(y_train,y_tr1))\r\n",
        "print('loss of test data :',mean_squared_error(y_test,y_pr))"
      ],
      "execution_count": 123,
      "outputs": [
        {
          "output_type": "stream",
          "text": [
            "train data accuracy : 0.40661768321563996\n",
            "test data accuracy : 0.4186581759369319\n",
            "loss of train data : 0.09608115080694615\n",
            "loss of test data : 0.0946927718257464\n"
          ],
          "name": "stdout"
        }
      ]
    },
    {
      "cell_type": "code",
      "metadata": {
        "id": "EnykkSDgk6dJ"
      },
      "source": [
        "actr.append(clf.score(X_train,y_train))\r\n",
        "acts.append(clf.score(X_test,y_test))\r\n",
        "lstr.append(mean_squared_error(y_train,y_tr1))\r\n",
        "lsts.append(mean_squared_error(y_test,y_pr))"
      ],
      "execution_count": 124,
      "outputs": []
    },
    {
      "cell_type": "markdown",
      "metadata": {
        "id": "GWWdmrU3lqdP"
      },
      "source": [
        "### Bayesian Ridge Regression"
      ]
    },
    {
      "cell_type": "code",
      "metadata": {
        "id": "Mvkbkrk4ltmn"
      },
      "source": [
        "clf=BayesianRidge()"
      ],
      "execution_count": 125,
      "outputs": []
    },
    {
      "cell_type": "code",
      "metadata": {
        "colab": {
          "base_uri": "https://localhost:8080/"
        },
        "id": "ZFx7xJGimEO-",
        "outputId": "a2974c0f-1b0b-40af-e43a-ee85de535b5b"
      },
      "source": [
        "clf.fit(X_train,y_train)\r\n",
        "y_tr1=clf.predict(X_train)\r\n",
        "y_pr=clf.predict(X_test)\r\n",
        "\r\n",
        "print('train data accuracy :',clf.score(X_train,y_train))\r\n",
        "print('test data accuracy :',clf.score(X_test,y_test))\r\n",
        "print('loss of train data :',mean_squared_error(y_train,y_tr1))\r\n",
        "print('loss of test data :',mean_squared_error(y_test,y_pr))"
      ],
      "execution_count": 126,
      "outputs": [
        {
          "output_type": "stream",
          "text": [
            "train data accuracy : 0.440602648193034\n",
            "test data accuracy : 0.45047835683806436\n",
            "loss of train data : 0.09057826598412724\n",
            "loss of test data : 0.08950969191509124\n"
          ],
          "name": "stdout"
        }
      ]
    },
    {
      "cell_type": "code",
      "metadata": {
        "id": "NmhBI3cAmEz3"
      },
      "source": [
        "actr.append(clf.score(X_train,y_train))\r\n",
        "acts.append(clf.score(X_test,y_test))\r\n",
        "lstr.append(mean_squared_error(y_train,y_tr1))\r\n",
        "lsts.append(mean_squared_error(y_test,y_pr))"
      ],
      "execution_count": 127,
      "outputs": []
    },
    {
      "cell_type": "markdown",
      "metadata": {
        "id": "nNF3_sANm_MS"
      },
      "source": [
        "# Model Evaluation & Conclusion"
      ]
    },
    {
      "cell_type": "code",
      "metadata": {
        "id": "3DpOqRn-nCum"
      },
      "source": [
        "models=['Polynomial','Random Forest','Ridge','Lasso','Bayesian Ridge']"
      ],
      "execution_count": 128,
      "outputs": []
    },
    {
      "cell_type": "code",
      "metadata": {
        "colab": {
          "base_uri": "https://localhost:8080/",
          "height": 545
        },
        "id": "nCcInuXtnNMd",
        "outputId": "b1fc50c3-777f-4db1-94cb-ae23e332838a"
      },
      "source": [
        "plt.title('Model Accuracy')\r\n",
        "plt.plot(models,actr,label='train data')\r\n",
        "plt.plot(models,acts,label='validation data')\r\n",
        "plt.legend()\r\n",
        "plt.show()\r\n",
        "\r\n",
        "plt.title('Model Loss')\r\n",
        "plt.plot(models,lstr,label='train data')\r\n",
        "plt.plot(models,lsts,label='validation data')\r\n",
        "plt.legend()\r\n",
        "plt.show()"
      ],
      "execution_count": 129,
      "outputs": [
        {
          "output_type": "display_data",
          "data": {
            "image/png": "[encoded data removed]",
            "text/plain": [
              "<Figure size 432x288 with 1 Axes>"
            ]
          },
          "metadata": {
            "tags": [],
            "needs_background": "light"
          }
        },
        {
          "output_type": "display_data",
          "data": {
            "image/png": "[encoded data removed]",
            "text/plain": [
              "<Figure size 432x288 with 1 Axes>"
            ]
          },
          "metadata": {
            "tags": [],
            "needs_background": "light"
          }
        }
      ]
    },
    {
      "cell_type": "markdown",
      "metadata": {
        "id": "1H2hzencpS0R"
      },
      "source": [
        "So, after visualizing , we have found that ,\r\n",
        "\r\n",
        "                  Model performance :\r\n",
        "                           Random Forest > Ridge > Bayesian Ridge > Lasso > Polynomial"
      ]
    },
    {
      "cell_type": "markdown",
      "metadata": {
        "id": "oU4ae6oKpucW"
      },
      "source": [
        "After model evaluation we can conclude that, high dimensional data can not be fit well in low dimensional models and can give abrupt conclusions that may led to lower accuracy.\r\n",
        "\r\n",
        "The RFR uses leafs that can reduce the dimensional complexity and generalize the model in a better approach. Thus it presents the best accuracy over the data."
      ]
    },
    {
      "cell_type": "markdown",
      "metadata": {
        "id": "lUkcCM8zqOon"
      },
      "source": [
        "Hurrah ! We have successfully complete the project ."
      ]
    },
    {
      "cell_type": "markdown",
      "metadata": {
        "id": "cxYf669uqbgR"
      },
      "source": [
        "**Upvote** in *kaggle* and **star** in *gitub*  if you like this kernel  **:)**\r\n",
        "\r\n",
        "You can visit my otherworks in [*github*](https://github.com/sagnik1511?tab=repositories)  and in [*kaggle*](https://www.kaggle.com/sagnik1511)"
      ]
    },
    {
      "cell_type": "markdown",
      "metadata": {
        "id": "M6N12zpSrNgw"
      },
      "source": [
        "![images.jpg](data:image/jpeg;base64,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)"
      ]
    }
  ]
}